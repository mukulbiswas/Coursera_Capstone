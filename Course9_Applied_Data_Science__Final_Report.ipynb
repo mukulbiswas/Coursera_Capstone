{
    "nbformat_minor": 1, 
    "cells": [
        {
            "source": "## Introduction\nLondon is a bustling multicultural city that is one of the most visited cities in the world. It is spotted with an immense number of restaurants because the people love to go out frequently to dine - residents and visitors alike. It is given restaurants serves a variety of international cuisines. In spite of a good number of Indian restaurants in London, there are several locations where there are not as many of them. The residents need to travel to places like Wembley, Bricklane and Southall. \n\n### Problem Statement\nWhat are the good locations in London where a Indian restaurant can be opened?\n", 
            "cell_type": "markdown", 
            "metadata": {
                "collapsed": true
            }
        }, 
        {
            "source": "## Data Section\n\n### Data Requirements: \nWe will need the following data for the analysis - London borough names, addresses, geo-coordinates (for plotting maps and visual analysis), business names and venues, business categories, demographic info like - population and ethnicity.\n\n### Data Collection:\nWikipedia -  London boroughs related information is available in Wikipedia (https://en.wikipedia.org/wiki/List_of_London_boroughs) that contains the area, population, latitude and longitude. \n\nFoursquate - Neighbourhood and venue information is available from Foursquare.com as an API service. \n\nFolium - Geostatic map information for plotting and layering will come from Folium. GeoJSON or TopoJSON files for London are available freely on Internet.\n\n", 
            "cell_type": "markdown", 
            "metadata": {}
        }, 
        {
            "source": "#### Link to the github repository:\n\nhttps://github.com/mukulbiswas/Coursera_Capstone/blob/master/Course%209:%20Applied%20Data%20Science%20-%20Capstone2.ipynb", 
            "cell_type": "markdown", 
            "metadata": {}
        }
    ], 
    "metadata": {
        "kernelspec": {
            "display_name": "Python 3.5", 
            "name": "python3", 
            "language": "python"
        }, 
        "language_info": {
            "mimetype": "text/x-python", 
            "nbconvert_exporter": "python", 
            "version": "3.5.5", 
            "name": "python", 
            "file_extension": ".py", 
            "pygments_lexer": "ipython3", 
            "codemirror_mode": {
                "version": 3, 
                "name": "ipython"
            }
        }
    }, 
    "nbformat": 4
}