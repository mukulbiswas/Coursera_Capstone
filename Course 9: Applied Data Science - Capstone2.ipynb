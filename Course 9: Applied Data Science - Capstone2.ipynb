{
    "nbformat_minor": 1, 
    "cells": [
        {
            "source": "# Introduction\nThis is the 2nd part of the week-3 assignment (2 marks) where lat-long is determined using geocoder for each post-code that has been scraped in the part 1.\n\n## Approach\nOutput of the part 1 is saved as a CSV that is loaded in this notebook as the starting point.", 
            "cell_type": "markdown", 
            "metadata": {
                "collapsed": true
            }
        }
    ], 
    "metadata": {
        "kernelspec": {
            "display_name": "Python 3.5", 
            "name": "python3", 
            "language": "python"
        }, 
        "language_info": {
            "mimetype": "text/x-python", 
            "nbconvert_exporter": "python", 
            "version": "3.5.5", 
            "name": "python", 
            "file_extension": ".py", 
            "pygments_lexer": "ipython3", 
            "codemirror_mode": {
                "version": 3, 
                "name": "ipython"
            }
        }
    }, 
    "nbformat": 4
}