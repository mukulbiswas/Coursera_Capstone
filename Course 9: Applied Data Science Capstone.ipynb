{
    "nbformat_minor": 1, 
    "cells": [
        {
            "source": "# Applied Data Science Capstone\n## Assignments\nThis notebook would be available on Github under the following link (Github handle @mukulbiswas)", 
            "cell_type": "markdown", 
            "metadata": {
                "collapsed": true
            }
        }, 
        {
            "source": "import pandas as pd\nimport numpy as np\n\nprint('Hello Capstone Project Course!')", 
            "cell_type": "code", 
            "metadata": {}, 
            "outputs": [
                {
                    "output_type": "stream", 
                    "name": "stdout", 
                    "text": "Hello Capstone Project Course!\n"
                }
            ], 
            "execution_count": 2
        }, 
        {
            "source": "# Part 1: Scraping and Preparation of Toronto Neighbourhood Data\nThe notebook scrapes a suggested Wikipedia pages for Toronto neighbourhood details in it. It contains the postcode details in a tabular format. Following steps are required as per the assignment given -\n\n\n## Broad approach:\n1. Scrape the table from the Wikipedia page\n2. Preprocess the data in using pandas\n\n\n_*Using the notebook from an earlier assignment.*_", 
            "cell_type": "markdown", 
            "metadata": {}
        }, 
        {
            "source": "import pandas as pd\nimport numpy as np\nimport requests as req", 
            "cell_type": "code", 
            "metadata": {}, 
            "outputs": [], 
            "execution_count": 2
        }, 
        {
            "source": "wikipedia_link='https://en.wikipedia.org/wiki/List_of_postal_codes_of_Canada:_M'", 
            "cell_type": "code", 
            "metadata": {}, 
            "outputs": [], 
            "execution_count": 4
        }, 
        {
            "source": "from lxml import html\n\nmyWikiPage = req.get(wikipedia_link)\npage = myWikiPage.text\n\n# Load the page (string) in a DOM structure\ndom_html = html.fromstring(page)\n\n# Use XPath to find the first instance of <title> as a DOM element\ndom_rows = dom_html.xpath('/html/body/div[3]/div[3]/div[4]/div/table[1]/tbody/tr')\n\nprint('No of rows in the table are', len(dom_rows))", 
            "cell_type": "code", 
            "metadata": {}, 
            "outputs": [
                {
                    "output_type": "stream", 
                    "name": "stdout", 
                    "text": "No of rows in the table are 290\n"
                }
            ], 
            "execution_count": 7
        }, 
        {
            "source": "_*290 rows including the header. There are 289 data rows.*_", 
            "cell_type": "markdown", 
            "metadata": {}
        }, 
        {
            "source": "# Create a dataframe with the required columns\ndata_columns = ['PostCode','Borough','Neighbourhood']\ndf = pd.DataFrame(columns=data_columns)\n\nrowcount = len(dom_rows)\n\n# for all the rows, iterate. Skip the header row.\nfor x1 in range(1, rowcount):\n    tr_node = dom_rows[x1]\n    new_row = {}\n\n    # for each column, iterate\n    for y1 in range(0,3):\n        # if the content is text, store in the dict\n        if (type(tr_node[y1].text) is str):\n            new_row[data_columns[y1]] = tr_node[y1].text.strip()\n        \n        # else if the content is another tag (anchor-tag), then read the inner text\n        else:\n            new_row[data_columns[y1]] = tr_node[y1][0].text.strip()\n    \n    # insert the dict of 3 items into the df as a new row. x1 is the index\n    df.loc[x1] = new_row\n\nprint('No of rows processed and columns are', df.shape)\ndf.head()", 
            "cell_type": "code", 
            "metadata": {}, 
            "outputs": [
                {
                    "output_type": "stream", 
                    "name": "stdout", 
                    "text": "No of rows processed and columns are (289, 3)\n"
                }, 
                {
                    "output_type": "execute_result", 
                    "data": {
                        "text/html": "<div>\n<style scoped>\n    .dataframe tbody tr th:only-of-type {\n        vertical-align: middle;\n    }\n\n    .dataframe tbody tr th {\n        vertical-align: top;\n    }\n\n    .dataframe thead th {\n        text-align: right;\n    }\n</style>\n<table border=\"1\" class=\"dataframe\">\n  <thead>\n    <tr style=\"text-align: right;\">\n      <th></th>\n      <th>PostCode</th>\n      <th>Borough</th>\n      <th>Neighbourhood</th>\n    </tr>\n  </thead>\n  <tbody>\n    <tr>\n      <th>1</th>\n      <td>M1A</td>\n      <td>Not assigned</td>\n      <td>Not assigned</td>\n    </tr>\n    <tr>\n      <th>2</th>\n      <td>M2A</td>\n      <td>Not assigned</td>\n      <td>Not assigned</td>\n    </tr>\n    <tr>\n      <th>3</th>\n      <td>M3A</td>\n      <td>North York</td>\n      <td>Parkwoods</td>\n    </tr>\n    <tr>\n      <th>4</th>\n      <td>M4A</td>\n      <td>North York</td>\n      <td>Victoria Village</td>\n    </tr>\n    <tr>\n      <th>5</th>\n      <td>M5A</td>\n      <td>Downtown Toronto</td>\n      <td>Harbourfront</td>\n    </tr>\n  </tbody>\n</table>\n</div>", 
                        "text/plain": "  PostCode           Borough     Neighbourhood\n1      M1A      Not assigned      Not assigned\n2      M2A      Not assigned      Not assigned\n3      M3A        North York         Parkwoods\n4      M4A        North York  Victoria Village\n5      M5A  Downtown Toronto      Harbourfront"
                    }, 
                    "execution_count": 23, 
                    "metadata": {}
                }
            ], 
            "execution_count": 23
        }, 
        {
            "source": "Remove the rows where Borough is *Not assigned*.", 
            "cell_type": "markdown", 
            "metadata": {}
        }, 
        {
            "source": "# Remove all the items where both borough and neighbourhood are \"Not assigned\"\ndf_2 = df[(df['Borough']!='Not assigned')]\n\nprint('The new shape of the dataframe is', df_2.shape)\ndf_2.head()", 
            "cell_type": "code", 
            "metadata": {}, 
            "outputs": [
                {
                    "output_type": "stream", 
                    "name": "stdout", 
                    "text": "The new shape of the dataframe is (212, 3)\n"
                }, 
                {
                    "output_type": "execute_result", 
                    "data": {
                        "text/html": "<div>\n<style scoped>\n    .dataframe tbody tr th:only-of-type {\n        vertical-align: middle;\n    }\n\n    .dataframe tbody tr th {\n        vertical-align: top;\n    }\n\n    .dataframe thead th {\n        text-align: right;\n    }\n</style>\n<table border=\"1\" class=\"dataframe\">\n  <thead>\n    <tr style=\"text-align: right;\">\n      <th></th>\n      <th>PostCode</th>\n      <th>Borough</th>\n      <th>Neighbourhood</th>\n    </tr>\n  </thead>\n  <tbody>\n    <tr>\n      <th>3</th>\n      <td>M3A</td>\n      <td>North York</td>\n      <td>Parkwoods</td>\n    </tr>\n    <tr>\n      <th>4</th>\n      <td>M4A</td>\n      <td>North York</td>\n      <td>Victoria Village</td>\n    </tr>\n    <tr>\n      <th>5</th>\n      <td>M5A</td>\n      <td>Downtown Toronto</td>\n      <td>Harbourfront</td>\n    </tr>\n    <tr>\n      <th>6</th>\n      <td>M5A</td>\n      <td>Downtown Toronto</td>\n      <td>Regent Park</td>\n    </tr>\n    <tr>\n      <th>7</th>\n      <td>M6A</td>\n      <td>North York</td>\n      <td>Lawrence Heights</td>\n    </tr>\n  </tbody>\n</table>\n</div>", 
                        "text/plain": "  PostCode           Borough     Neighbourhood\n3      M3A        North York         Parkwoods\n4      M4A        North York  Victoria Village\n5      M5A  Downtown Toronto      Harbourfront\n6      M5A  Downtown Toronto       Regent Park\n7      M6A        North York  Lawrence Heights"
                    }, 
                    "execution_count": 24, 
                    "metadata": {}
                }
            ], 
            "execution_count": 24
        }, 
        {
            "source": "77 rows are dropped.", 
            "cell_type": "markdown", 
            "metadata": {}
        }, 
        {
            "source": "# Find the indexes of the rows where the neighbourhood are not assigned\n\nindexes = df_2[df_2['Neighbourhood']=='Not assigned'].index.values\n\n# For those indexes, replace the name of the neighbourhood with that of the Borough\ndf_2.loc[indexes,'Neighbourhood'] = df_2.loc[indexes,'Borough']", 
            "cell_type": "code", 
            "metadata": {}, 
            "outputs": [
                {
                    "output_type": "stream", 
                    "name": "stderr", 
                    "text": "/opt/conda/envs/DSX-Python35/lib/python3.5/site-packages/pandas/core/indexing.py:194: SettingWithCopyWarning: \nA value is trying to be set on a copy of a slice from a DataFrame\n\nSee the caveats in the documentation: http://pandas.pydata.org/pandas-docs/stable/indexing.html#indexing-view-versus-copy\n  self._setitem_with_indexer(indexer, value)\n/opt/conda/envs/DSX-Python35/lib/python3.5/site-packages/ipykernel/__main__.py:6: SettingWithCopyWarning: \nA value is trying to be set on a copy of a slice from a DataFrame\n\nSee the caveats in the documentation: http://pandas.pydata.org/pandas-docs/stable/indexing.html#indexing-view-versus-copy\n"
                }
            ], 
            "execution_count": 25
        }, 
        {
            "source": "# Check if there is any row left with neighbourhood == 'Not assigned'\n\nlen(df_2[df_2['Neighbourhood']=='Not assigned'])", 
            "cell_type": "code", 
            "metadata": {}, 
            "outputs": [
                {
                    "output_type": "execute_result", 
                    "data": {
                        "text/plain": "0"
                    }, 
                    "execution_count": 27, 
                    "metadata": {}
                }
            ], 
            "execution_count": 27
        }, 
        {
            "source": "# Merge rows of same Post Codes; with comma-separated Borough names\ndf_3 = pd.DataFrame({'Neighborhood' : df_2.groupby([ 'PostCode','Borough'])['Neighbourhood'].apply(','.join)})\n\nprint('The new shape of the dataframe is', df_3.shape)\ndf_3.head(10)", 
            "cell_type": "code", 
            "metadata": {}, 
            "outputs": [
                {
                    "output_type": "stream", 
                    "name": "stdout", 
                    "text": "The new shape of the dataframe is (103, 1)\n"
                }, 
                {
                    "output_type": "execute_result", 
                    "data": {
                        "text/html": "<div>\n<style scoped>\n    .dataframe tbody tr th:only-of-type {\n        vertical-align: middle;\n    }\n\n    .dataframe tbody tr th {\n        vertical-align: top;\n    }\n\n    .dataframe thead th {\n        text-align: right;\n    }\n</style>\n<table border=\"1\" class=\"dataframe\">\n  <thead>\n    <tr style=\"text-align: right;\">\n      <th></th>\n      <th></th>\n      <th>Neighborhood</th>\n    </tr>\n    <tr>\n      <th>PostCode</th>\n      <th>Borough</th>\n      <th></th>\n    </tr>\n  </thead>\n  <tbody>\n    <tr>\n      <th>M1B</th>\n      <th>Scarborough</th>\n      <td>Rouge,Malvern</td>\n    </tr>\n    <tr>\n      <th>M1C</th>\n      <th>Scarborough</th>\n      <td>Highland Creek,Rouge Hill,Port Union</td>\n    </tr>\n    <tr>\n      <th>M1E</th>\n      <th>Scarborough</th>\n      <td>Guildwood,Morningside,West Hill</td>\n    </tr>\n    <tr>\n      <th>M1G</th>\n      <th>Scarborough</th>\n      <td>Woburn</td>\n    </tr>\n    <tr>\n      <th>M1H</th>\n      <th>Scarborough</th>\n      <td>Cedarbrae</td>\n    </tr>\n    <tr>\n      <th>M1J</th>\n      <th>Scarborough</th>\n      <td>Scarborough Village</td>\n    </tr>\n    <tr>\n      <th>M1K</th>\n      <th>Scarborough</th>\n      <td>East Birchmount Park,Ionview,Kennedy Park</td>\n    </tr>\n    <tr>\n      <th>M1L</th>\n      <th>Scarborough</th>\n      <td>Clairlea,Golden Mile,Oakridge</td>\n    </tr>\n    <tr>\n      <th>M1M</th>\n      <th>Scarborough</th>\n      <td>Cliffcrest,Cliffside,Scarborough Village West</td>\n    </tr>\n    <tr>\n      <th>M1N</th>\n      <th>Scarborough</th>\n      <td>Birch Cliff,Cliffside West</td>\n    </tr>\n  </tbody>\n</table>\n</div>", 
                        "text/plain": "                                                       Neighborhood\nPostCode Borough                                                   \nM1B      Scarborough                                  Rouge,Malvern\nM1C      Scarborough           Highland Creek,Rouge Hill,Port Union\nM1E      Scarborough                Guildwood,Morningside,West Hill\nM1G      Scarborough                                         Woburn\nM1H      Scarborough                                      Cedarbrae\nM1J      Scarborough                            Scarborough Village\nM1K      Scarborough      East Birchmount Park,Ionview,Kennedy Park\nM1L      Scarborough                  Clairlea,Golden Mile,Oakridge\nM1M      Scarborough  Cliffcrest,Cliffside,Scarborough Village West\nM1N      Scarborough                     Birch Cliff,Cliffside West"
                    }, 
                    "execution_count": 29, 
                    "metadata": {}
                }
            ], 
            "execution_count": 29
        }, 
        {
            "source": "## Summary and Assumptions\nThe above dataframe contains the scraped and preprocessed data from Wikipedia that is indexed by PostCode with multiple neighbourhood names captured against it.\n\nIt is assumed while processing the data that -\n1. The term \"Not assigned\" has the fixed pattern. A variation with addition whitespaces would not result the same way.\n2. There are no blank cells in the wikipedia page. If existed, it should have been replaced with \"Not assigned\" for pre-processing.\n3. The wikipedia page format does not changes. The XPath of the data-table has been obtained using a browser feature availabile in developer-mode.\n\nThe final shape of the dataframe is captured below-", 
            "cell_type": "markdown", 
            "metadata": {}
        }, 
        {
            "source": "print('The final shape of the dataframe is', df_3.shape)", 
            "cell_type": "code", 
            "metadata": {}, 
            "outputs": [
                {
                    "output_type": "stream", 
                    "name": "stdout", 
                    "text": "The final shape of the dataframe is (103, 1)\n"
                }
            ], 
            "execution_count": 30
        }, 
        {
            "source": "---------------------------", 
            "cell_type": "markdown", 
            "metadata": {}
        }, 
        {
            "source": "# Part 2: Determination of the Coordinates of the Postcodes\nThis is the 2nd part of the week-3 assignment (2 marks) where lat-long is determined using geocoder for each post-code that has been scraped in the part 1.\n\n## Approach\n- Starting from the output dataframe of the part 1\n- Download the geocoder data available online and read into a dataframe\n- Merge the geocoder dataframe with dataframe from part 1.\n", 
            "cell_type": "markdown", 
            "metadata": {}
        }, 
        {
            "source": "!wget http://cocl.us/Geospatial_data", 
            "cell_type": "code", 
            "metadata": {}, 
            "outputs": [
                {
                    "output_type": "stream", 
                    "name": "stdout", 
                    "text": "--2018-12-11 14:29:29--  http://cocl.us/Geospatial_data\nResolving cocl.us (cocl.us)... 159.8.72.228\nConnecting to cocl.us (cocl.us)|159.8.72.228|:80... connected.\nHTTP request sent, awaiting response... 301 Moved Permanently\nLocation: https://cocl.us/Geospatial_data [following]\n--2018-12-11 14:29:29--  https://cocl.us/Geospatial_data\nConnecting to cocl.us (cocl.us)|159.8.72.228|:443... connected.\nHTTP request sent, awaiting response... 301 Moved Permanently\nLocation: https://ibm.box.com/shared/static/9afzr83pps4pwf2smjjcf1y5mvgb18rr.csv [following]\n--2018-12-11 14:29:32--  https://ibm.box.com/shared/static/9afzr83pps4pwf2smjjcf1y5mvgb18rr.csv\nResolving ibm.box.com (ibm.box.com)... 107.152.27.197\nConnecting to ibm.box.com (ibm.box.com)|107.152.27.197|:443... connected.\nHTTP request sent, awaiting response... 301 Moved Permanently\nLocation: https://ibm.ent.box.com/shared/static/9afzr83pps4pwf2smjjcf1y5mvgb18rr.csv [following]\n--2018-12-11 14:29:33--  https://ibm.ent.box.com/shared/static/9afzr83pps4pwf2smjjcf1y5mvgb18rr.csv\nResolving ibm.ent.box.com (ibm.ent.box.com)... 107.152.26.211\nConnecting to ibm.ent.box.com (ibm.ent.box.com)|107.152.26.211|:443... connected.\nHTTP request sent, awaiting response... 302 Found\nLocation: https://public.boxcloud.com/d/1/b1!lgKPEcL18TgQn4Tg4OmQ1gxjdQdMv2ihrPA2JgQjyDuD-vCVBxuUH84WoQ1vU2r7pBhoFLx5Z5vkckaUnCuifSC00c_hwhZEF3twcbGhRTBz0UXdCerAugg_TEiMSBf0ubPtVmRsVIRqHI_JynSZQXxqhxnYvW97lYjZwTfTkfkt6dAt851z7woZubpufAfll2Seqc9mev_wtZjs9jHm2WQxZBg9K2N-jTBM0hL8Kxdh8GxDemR5Oufr2OvPmqe82-ZA4G8PHhUtCKQWvoSO6zy4pHesagmK6wbeJ0dcLGyD4_cWaCxTVUf1GUXzRLdv_PwtuLKAriLxK65Ya5H48fAvMJ5U_0bpBcqlQnGyLYdDTUJ_DPQq2AoE5b_Zz4bdjzVJSZlov0OCImAg6MxRn7mhV3Wvl8frv-Bf0iBzoP8gSrksSr3uEd5nkYCEP8m2QTxMnYToi1zLi_VyT0m-XWWEe_xMLVv3vOghS-F0-oqVmSIBknY1c6tWFWaUfVSknRGJGggaNDS2d_JwFqZzMfhB2PjaLfyFC1dkLumoLnC4t7uV0SYCLy69VUfUufCMxSt8d8bkdw3w4jHojaJFwtK2QQ6Wz0TWR7rO6S6pfz0xHoMBC3jU6xpzkQ2TB8bmScxNOrneso10gPFJd0k1cAtCp44kbWVt0y5banQrnxgprnYSbNQb99Ux0gOUflYxPxZczRQs1C07rf0enrEJJyAyjTKRN5sr9aymWHdxauOIIiMxxeAa7kqAE9uVLMMkjveVksezVvzHJig6NU_v0vn4JKZdDouQNt3v_eILc1IAGBJcvmkuOaCPRf4dJe7PIPvDIXXkstQyJZfa5kLF-0fQx9aClgJtTaidd35WXau_yCPsLIDNTZ4sM7TKmnzTV_ws9S7e7mBS-UpX-zFXqVB7dQWoia9HVWvlumq8DToXaKWIwnC1nk8qnrJTD68SHyeIKx1X21HGd2tqYPLK5JqpfZLvvyM3hTlIayQbY4eWNQkUSM1lX_1XDyoLnB9zJG3i8A5B0UYqcHXqr_u8c6acKyuhUYIAYlWpYgYby5F-sWek09f9bEygI0QQPvRYPkdfQa0ZjV-3KVSJFhJgGau7N93NSCMwlX_pIOIfHzXUezTD9YzTapJa2XkcGxiDu9SsUPFXU07KzTWHqG8jdcWuGdDy43ldqKYOVRzlRcCAPBqXynn5FUJbEkBoGcC7GNE3QPmrFrF7HK5gIZuOe5wpt-BzLOeagRND-VZB_mZaS_dUsxKPascS_8H4orpddJSsg5zLr9iWOkOH6zKSRZanQwucynz1wLaNAt_hday3ewZNK-HOCXxqzZvaDV5UUBWhpMaUPns6Cm9FeMu8v2UnvZRx3N_Yx2_Tma-bDLMz3Kzb/download [following]\n--2018-12-11 14:29:34--  https://public.boxcloud.com/d/1/b1!lgKPEcL18TgQn4Tg4OmQ1gxjdQdMv2ihrPA2JgQjyDuD-vCVBxuUH84WoQ1vU2r7pBhoFLx5Z5vkckaUnCuifSC00c_hwhZEF3twcbGhRTBz0UXdCerAugg_TEiMSBf0ubPtVmRsVIRqHI_JynSZQXxqhxnYvW97lYjZwTfTkfkt6dAt851z7woZubpufAfll2Seqc9mev_wtZjs9jHm2WQxZBg9K2N-jTBM0hL8Kxdh8GxDemR5Oufr2OvPmqe82-ZA4G8PHhUtCKQWvoSO6zy4pHesagmK6wbeJ0dcLGyD4_cWaCxTVUf1GUXzRLdv_PwtuLKAriLxK65Ya5H48fAvMJ5U_0bpBcqlQnGyLYdDTUJ_DPQq2AoE5b_Zz4bdjzVJSZlov0OCImAg6MxRn7mhV3Wvl8frv-Bf0iBzoP8gSrksSr3uEd5nkYCEP8m2QTxMnYToi1zLi_VyT0m-XWWEe_xMLVv3vOghS-F0-oqVmSIBknY1c6tWFWaUfVSknRGJGggaNDS2d_JwFqZzMfhB2PjaLfyFC1dkLumoLnC4t7uV0SYCLy69VUfUufCMxSt8d8bkdw3w4jHojaJFwtK2QQ6Wz0TWR7rO6S6pfz0xHoMBC3jU6xpzkQ2TB8bmScxNOrneso10gPFJd0k1cAtCp44kbWVt0y5banQrnxgprnYSbNQb99Ux0gOUflYxPxZczRQs1C07rf0enrEJJyAyjTKRN5sr9aymWHdxauOIIiMxxeAa7kqAE9uVLMMkjveVksezVvzHJig6NU_v0vn4JKZdDouQNt3v_eILc1IAGBJcvmkuOaCPRf4dJe7PIPvDIXXkstQyJZfa5kLF-0fQx9aClgJtTaidd35WXau_yCPsLIDNTZ4sM7TKmnzTV_ws9S7e7mBS-UpX-zFXqVB7dQWoia9HVWvlumq8DToXaKWIwnC1nk8qnrJTD68SHyeIKx1X21HGd2tqYPLK5JqpfZLvvyM3hTlIayQbY4eWNQkUSM1lX_1XDyoLnB9zJG3i8A5B0UYqcHXqr_u8c6acKyuhUYIAYlWpYgYby5F-sWek09f9bEygI0QQPvRYPkdfQa0ZjV-3KVSJFhJgGau7N93NSCMwlX_pIOIfHzXUezTD9YzTapJa2XkcGxiDu9SsUPFXU07KzTWHqG8jdcWuGdDy43ldqKYOVRzlRcCAPBqXynn5FUJbEkBoGcC7GNE3QPmrFrF7HK5gIZuOe5wpt-BzLOeagRND-VZB_mZaS_dUsxKPascS_8H4orpddJSsg5zLr9iWOkOH6zKSRZanQwucynz1wLaNAt_hday3ewZNK-HOCXxqzZvaDV5UUBWhpMaUPns6Cm9FeMu8v2UnvZRx3N_Yx2_Tma-bDLMz3Kzb/download\nResolving public.boxcloud.com (public.boxcloud.com)... 107.152.27.200\nConnecting to public.boxcloud.com (public.boxcloud.com)|107.152.27.200|:443... connected.\nHTTP request sent, awaiting response... 200 OK\nLength: 2891 (2.8K) [text/csv]\nSaving to: \u2018Geospatial_data\u2019\n\n100%[======================================>] 2,891       --.-K/s   in 0s      \n\n2018-12-11 14:29:35 (397 MB/s) - \u2018Geospatial_data\u2019 saved [2891/2891]\n\n"
                }
            ], 
            "execution_count": 33
        }, 
        {
            "source": "geo = pd.read_csv('Geospatial_data')", 
            "cell_type": "code", 
            "metadata": {}, 
            "outputs": [], 
            "execution_count": 35
        }, 
        {
            "source": "geo.columns=['PostCode', 'Latitude', 'Longitude']\ngeo = geo.set_index('PostCode')\ngeo.head()", 
            "cell_type": "code", 
            "metadata": {}, 
            "outputs": [
                {
                    "output_type": "execute_result", 
                    "data": {
                        "text/html": "<div>\n<style scoped>\n    .dataframe tbody tr th:only-of-type {\n        vertical-align: middle;\n    }\n\n    .dataframe tbody tr th {\n        vertical-align: top;\n    }\n\n    .dataframe thead th {\n        text-align: right;\n    }\n</style>\n<table border=\"1\" class=\"dataframe\">\n  <thead>\n    <tr style=\"text-align: right;\">\n      <th></th>\n      <th>Latitude</th>\n      <th>Longitude</th>\n    </tr>\n    <tr>\n      <th>PostCode</th>\n      <th></th>\n      <th></th>\n    </tr>\n  </thead>\n  <tbody>\n    <tr>\n      <th>M1B</th>\n      <td>43.806686</td>\n      <td>-79.194353</td>\n    </tr>\n    <tr>\n      <th>M1C</th>\n      <td>43.784535</td>\n      <td>-79.160497</td>\n    </tr>\n    <tr>\n      <th>M1E</th>\n      <td>43.763573</td>\n      <td>-79.188711</td>\n    </tr>\n    <tr>\n      <th>M1G</th>\n      <td>43.770992</td>\n      <td>-79.216917</td>\n    </tr>\n    <tr>\n      <th>M1H</th>\n      <td>43.773136</td>\n      <td>-79.239476</td>\n    </tr>\n  </tbody>\n</table>\n</div>", 
                        "text/plain": "           Latitude  Longitude\nPostCode                      \nM1B       43.806686 -79.194353\nM1C       43.784535 -79.160497\nM1E       43.763573 -79.188711\nM1G       43.770992 -79.216917\nM1H       43.773136 -79.239476"
                    }, 
                    "execution_count": 41, 
                    "metadata": {}
                }
            ], 
            "execution_count": 41
        }, 
        {
            "source": "df_4 = df_3.merge(geo, left_index =True, right_index =True, how='outer').reset_index()\n\ndf_4.head(10)", 
            "cell_type": "code", 
            "metadata": {}, 
            "outputs": [
                {
                    "output_type": "execute_result", 
                    "data": {
                        "text/html": "<div>\n<style scoped>\n    .dataframe tbody tr th:only-of-type {\n        vertical-align: middle;\n    }\n\n    .dataframe tbody tr th {\n        vertical-align: top;\n    }\n\n    .dataframe thead th {\n        text-align: right;\n    }\n</style>\n<table border=\"1\" class=\"dataframe\">\n  <thead>\n    <tr style=\"text-align: right;\">\n      <th></th>\n      <th>PostCode</th>\n      <th>Borough</th>\n      <th>Neighborhood</th>\n      <th>Latitude</th>\n      <th>Longitude</th>\n    </tr>\n  </thead>\n  <tbody>\n    <tr>\n      <th>0</th>\n      <td>M1B</td>\n      <td>Scarborough</td>\n      <td>Rouge,Malvern</td>\n      <td>43.806686</td>\n      <td>-79.194353</td>\n    </tr>\n    <tr>\n      <th>1</th>\n      <td>M1C</td>\n      <td>Scarborough</td>\n      <td>Highland Creek,Rouge Hill,Port Union</td>\n      <td>43.784535</td>\n      <td>-79.160497</td>\n    </tr>\n    <tr>\n      <th>2</th>\n      <td>M1E</td>\n      <td>Scarborough</td>\n      <td>Guildwood,Morningside,West Hill</td>\n      <td>43.763573</td>\n      <td>-79.188711</td>\n    </tr>\n    <tr>\n      <th>3</th>\n      <td>M1G</td>\n      <td>Scarborough</td>\n      <td>Woburn</td>\n      <td>43.770992</td>\n      <td>-79.216917</td>\n    </tr>\n    <tr>\n      <th>4</th>\n      <td>M1H</td>\n      <td>Scarborough</td>\n      <td>Cedarbrae</td>\n      <td>43.773136</td>\n      <td>-79.239476</td>\n    </tr>\n    <tr>\n      <th>5</th>\n      <td>M1J</td>\n      <td>Scarborough</td>\n      <td>Scarborough Village</td>\n      <td>43.744734</td>\n      <td>-79.239476</td>\n    </tr>\n    <tr>\n      <th>6</th>\n      <td>M1K</td>\n      <td>Scarborough</td>\n      <td>East Birchmount Park,Ionview,Kennedy Park</td>\n      <td>43.727929</td>\n      <td>-79.262029</td>\n    </tr>\n    <tr>\n      <th>7</th>\n      <td>M1L</td>\n      <td>Scarborough</td>\n      <td>Clairlea,Golden Mile,Oakridge</td>\n      <td>43.711112</td>\n      <td>-79.284577</td>\n    </tr>\n    <tr>\n      <th>8</th>\n      <td>M1M</td>\n      <td>Scarborough</td>\n      <td>Cliffcrest,Cliffside,Scarborough Village West</td>\n      <td>43.716316</td>\n      <td>-79.239476</td>\n    </tr>\n    <tr>\n      <th>9</th>\n      <td>M1N</td>\n      <td>Scarborough</td>\n      <td>Birch Cliff,Cliffside West</td>\n      <td>43.692657</td>\n      <td>-79.264848</td>\n    </tr>\n  </tbody>\n</table>\n</div>", 
                        "text/plain": "  PostCode      Borough                                   Neighborhood  \\\n0      M1B  Scarborough                                  Rouge,Malvern   \n1      M1C  Scarborough           Highland Creek,Rouge Hill,Port Union   \n2      M1E  Scarborough                Guildwood,Morningside,West Hill   \n3      M1G  Scarborough                                         Woburn   \n4      M1H  Scarborough                                      Cedarbrae   \n5      M1J  Scarborough                            Scarborough Village   \n6      M1K  Scarborough      East Birchmount Park,Ionview,Kennedy Park   \n7      M1L  Scarborough                  Clairlea,Golden Mile,Oakridge   \n8      M1M  Scarborough  Cliffcrest,Cliffside,Scarborough Village West   \n9      M1N  Scarborough                     Birch Cliff,Cliffside West   \n\n    Latitude  Longitude  \n0  43.806686 -79.194353  \n1  43.784535 -79.160497  \n2  43.763573 -79.188711  \n3  43.770992 -79.216917  \n4  43.773136 -79.239476  \n5  43.744734 -79.239476  \n6  43.727929 -79.262029  \n7  43.711112 -79.284577  \n8  43.716316 -79.239476  \n9  43.692657 -79.264848  "
                    }, 
                    "execution_count": 48, 
                    "metadata": {}
                }
            ], 
            "execution_count": 48
        }
    ], 
    "metadata": {
        "kernelspec": {
            "display_name": "Python 3.5", 
            "name": "python3", 
            "language": "python"
        }, 
        "language_info": {
            "mimetype": "text/x-python", 
            "nbconvert_exporter": "python", 
            "version": "3.5.5", 
            "name": "python", 
            "pygments_lexer": "ipython3", 
            "file_extension": ".py", 
            "codemirror_mode": {
                "version": 3, 
                "name": "ipython"
            }
        }
    }, 
    "nbformat": 4
}